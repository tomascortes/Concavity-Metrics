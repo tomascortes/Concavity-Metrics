{
  "nbformat": 4,
  "nbformat_minor": 0,
  "metadata": {
    "colab": {
      "provenance": [],
      "collapsed_sections": [],
      "authorship_tag": "ABX9TyOp82NvaH/qIHBB9dO8aGsB",
      "include_colab_link": true
    },
    "kernelspec": {
      "name": "python3",
      "display_name": "Python 3"
    },
    "language_info": {
      "name": "python"
    }
  },
  "cells": [
    {
      "cell_type": "markdown",
      "metadata": {
        "id": "view-in-github",
        "colab_type": "text"
      },
      "source": [
        "<a href=\"https://colab.research.google.com/github/tomascortes/Concavity-Metrics/blob/main/Copia_de_Concavity_metrics.ipynb\" target=\"_parent\"><img src=\"https://colab.research.google.com/assets/colab-badge.svg\" alt=\"Open In Colab\"/></a>"
      ]
    },
    {
      "cell_type": "markdown",
      "source": [],
      "metadata": {
        "id": "TonHhPYoo2Pi"
      }
    },
    {
      "cell_type": "markdown",
      "source": [
        "# Concavity metrics"
      ],
      "metadata": {
        "id": "VN3gk_c7o384"
      }
    },
    {
      "cell_type": "code",
      "execution_count": null,
      "metadata": {
        "colab": {
          "resources": {
            "http://localhost:8080/nbextensions/google.colab/files.js": {
              "data": "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",
              "ok": true,
              "headers": [
                [
                  "content-type",
                  "application/javascript"
                ]
              ],
              "status": 200,
              "status_text": ""
            }
          },
          "base_uri": "https://localhost:8080/",
          "height": 90
        },
        "id": "oeyvBw1FkfMB",
        "outputId": "84e932cf-8797-4269-9a1b-3eef722d1b8b"
      },
      "outputs": [
        {
          "output_type": "display_data",
          "data": {
            "text/plain": [
              "<IPython.core.display.HTML object>"
            ],
            "text/html": [
              "\n",
              "     <input type=\"file\" id=\"files-a585f460-98c4-42f1-9663-6ed497ed82d4\" name=\"files[]\" multiple disabled\n",
              "        style=\"border:none\" />\n",
              "     <output id=\"result-a585f460-98c4-42f1-9663-6ed497ed82d4\">\n",
              "      Upload widget is only available when the cell has been executed in the\n",
              "      current browser session. Please rerun this cell to enable.\n",
              "      </output>\n",
              "      <script src=\"/nbextensions/google.colab/files.js\"></script> "
            ]
          },
          "metadata": {}
        },
        {
          "output_type": "stream",
          "name": "stdout",
          "text": [
            "Saving input.xlsx to input (1).xlsx\n",
            "Files uploaded\n"
          ]
        }
      ],
      "source": [
        "from google.colab import files\n",
        "uploaded = files.upload()\n",
        "print(\"Files uploaded\")"
      ]
    },
    {
      "cell_type": "markdown",
      "source": [
        "# Proccessing Code"
      ],
      "metadata": {
        "id": "hgi9rA9frRKd"
      }
    },
    {
      "cell_type": "markdown",
      "source": [
        "## read data"
      ],
      "metadata": {
        "id": "curqzuR-vrdo"
      }
    },
    {
      "cell_type": "code",
      "source": [
        "pip install openpyxl==3.0.9"
      ],
      "metadata": {
        "colab": {
          "base_uri": "https://localhost:8080/"
        },
        "id": "CKS3QW9LyxmO",
        "outputId": "137e04f1-564b-46cd-c9b6-4347e4b65404"
      },
      "execution_count": 1,
      "outputs": [
        {
          "output_type": "stream",
          "name": "stdout",
          "text": [
            "Looking in indexes: https://pypi.org/simple, https://us-python.pkg.dev/colab-wheels/public/simple/\n",
            "Collecting openpyxl==3.0.9\n",
            "  Downloading openpyxl-3.0.9-py2.py3-none-any.whl (242 kB)\n",
            "\u001b[K     |████████████████████████████████| 242 kB 9.4 MB/s \n",
            "\u001b[?25hRequirement already satisfied: et-xmlfile in /usr/local/lib/python3.7/dist-packages (from openpyxl==3.0.9) (1.1.0)\n",
            "Installing collected packages: openpyxl\n",
            "  Attempting uninstall: openpyxl\n",
            "    Found existing installation: openpyxl 3.0.10\n",
            "    Uninstalling openpyxl-3.0.10:\n",
            "      Successfully uninstalled openpyxl-3.0.10\n",
            "Successfully installed openpyxl-3.0.9\n"
          ]
        }
      ]
    },
    {
      "cell_type": "code",
      "source": [
        "#@title\n",
        "import string\n",
        "import os\n",
        "import sys\n",
        "from openpyxl import Workbook, load_workbook\n",
        "from io  import BytesIO\n",
        "from openpyxl import Workbook, load_workbook\n",
        "from openpyxl.styles import PatternFill, Font\n",
        "\n",
        "class MoreValuesThanTimeStamps(Exception):\n",
        "    \"\"\"Raised when there are missing timestamps \"\"\"\n",
        "    pass\n",
        "\n",
        "\n",
        "def path_selector() -> string:\n",
        "    # Declare the dictionry options\n",
        "    options = dict()\n",
        "    counter = 1\n",
        "\n",
        "    # Print all the excel files in directory\n",
        "    files = os.listdir(\"./\")\n",
        "    for file in files:\n",
        "        if \".xlsx\" in file:\n",
        "            options[counter] = file\n",
        "            print(f\"{counter})\", end=\"\")\n",
        "            print(file)\n",
        "            counter += 1\n",
        "    # Ask for input\n",
        "    answer = input(\"Write number of the file to be selected an press enter \\n\")\n",
        "    while not answer.isdigit():\n",
        "        print(\"\\nRemember to write just a number\")\n",
        "        answer = input(\"Write number of file to be selected an press enter \\n\")\n",
        "    answer_number = int(answer)\n",
        "    return options[answer_number]\n",
        "\n",
        "\n",
        "def read_file(file, work_sheet: str=None) -> tuple:\n",
        "    \"\"\"recives a path of a excel file and return a tuple of two lists, \n",
        "    corresponding to time and Values\"\"\"\n",
        "    wb = Workbook()\n",
        "    wb = load_workbook(filename=BytesIO(file))\n",
        "    if work_sheet:\n",
        "        ws = wb[work_sheet]\n",
        "    else:\n",
        "        ws = wb.worksheets[0]\n",
        "\n",
        "    output_time = []\n",
        "    output_values = []\n",
        "\n",
        "    for row in ws.rows:\n",
        "        output_time.append(row[0].value)\n",
        "        output_values.append(row[1].value)\n",
        "\n",
        "    start_x = round(ws.cell(2, 3).value, 2)\n",
        "    finish_x = round(ws.cell(2, 4).value, 2)\n",
        "\n",
        "\n",
        "    output_time.pop(0)\n",
        "    output_values.pop(0)\n",
        "\n",
        "    # Sometimes the data read Nones at the end,\n",
        "    # there should be no Nones in the middle\n",
        "\n",
        "    for i in range(len(output_time)):\n",
        "        if output_time[i] == None:\n",
        "            output_time = output_time[:i]\n",
        "            break\n",
        "\n",
        "    for i in range(len(output_values)):\n",
        "        if output_values[i] == None:\n",
        "            output_values = output_values[:i]\n",
        "            break\n",
        "    if len(output_values) > len(output_time):\n",
        "        raise MoreValuesThanTimeStamps(\"There are more input values than time values\")\n",
        "    elif len(output_values) != len(output_time):\n",
        "        output_time = output_time[:len(output_values)]\n",
        "    return (output_time, output_values, start_x, finish_x)\n",
        "\n",
        "def get_verbose() -> bool:\n",
        "    n = len(sys.argv)\n",
        "    if n >= 2:\n",
        "        return sys.argv[1] == \"p\"\n",
        "    return False\n"
      ],
      "metadata": {
        "id": "u9YK7n7Ro2j-",
        "cellView": "form"
      },
      "execution_count": 2,
      "outputs": []
    },
    {
      "cell_type": "markdown",
      "source": [
        "## output data "
      ],
      "metadata": {
        "id": "rUy7JBOuvuOU"
      }
    },
    {
      "cell_type": "code",
      "source": [
        "#@title\n",
        "def update_excel(big_dist_data: dict, mid_dist_data: dict):\n",
        "    \"\"\"recives a list of lists with shape:\n",
        "    [integral_value, start_integral, end_integral]\n",
        "    and returns and creates an excel file with the data in the\n",
        "    output path. Creates output directory if it doesn't exist.\"\"\"\n",
        "    PATH = \"input.xlsx\"\n",
        "    # Create workbook\n",
        "    wb = Workbook()\n",
        "    wb = load_workbook(filename=PATH, read_only=False)\n",
        "    ws = wb.worksheets[0]\n",
        "\n",
        "    ##General metrics##\n",
        "    for i, key in enumerate([\"slope start-finish\", \"upper area\", \"downer area\"]):\n",
        "        ws.cell(row=6, column=6 + i).value = key\n",
        "        ws.cell(row=6, column=6 + i).fill = PatternFill(start_color=\"75E6DA\", end_color=\"75E6DA\", fill_type = \"solid\")\n",
        "        ws.cell(row=7, column=6 + i).value = big_dist_data[key]\n",
        "        big_dist_data.pop(key)\n",
        "\n",
        "    # Write first set of data\n",
        "    title_cell = ws.cell(row=1, column=5)\n",
        "    title_cell.value = \"Bigger Distance Pivot\"\n",
        "    title_cell.fill = PatternFill(start_color=\"FF4A4A\", end_color=\"FF4A4A\", fill_type = \"solid\")\n",
        "    title_cellfont = Font(size=12)\n",
        "    for i, (name, value) in enumerate(big_dist_data.items()):\n",
        "        ws.cell(row=1, column=i+6).value = name + \" BDP\"\n",
        "        ws.cell(row=1, column=i+6).fill = PatternFill(start_color=\"75E6DA\", end_color=\"75E6DA\", fill_type = \"solid\")\n",
        "        ws.cell(row=2, column=i+6).value = value\n",
        "\n",
        "    \n",
        "\n",
        "    # Write second set\n",
        "    title_cell = ws.cell(row=3, column=5)\n",
        "    title_cell.value = \"Middle Distance Pivot\"\n",
        "    title_cell.fill = PatternFill(start_color=\"FF4A4A\", end_color=\"FF4A4A\", fill_type = \"solid\")\n",
        "    #Copied and pasted from excel file\n",
        "\n",
        "    for i, (name, value) in enumerate(mid_dist_data.items()):\n",
        "        ws.cell(row=3, column=i+6).value = name + \" MDP\"\n",
        "        ws.cell(row=3, column=i+6).fill = PatternFill(start_color=\"75E6DA\", end_color=\"75E6DA\", fill_type = \"solid\")\n",
        "        ws.cell(row=4, column=i+6).value = value\n",
        "\n",
        "    for col in ws.columns:\n",
        "        column = col[0].column_letter   # Get the column name\n",
        "        ws.column_dimensions[column].width = 20\n",
        "    # Save excel file\n",
        "    wb.save(PATH)"
      ],
      "metadata": {
        "cellView": "form",
        "id": "-W9LHFJIuC7Q"
      },
      "execution_count": 3,
      "outputs": []
    },
    {
      "cell_type": "markdown",
      "source": [
        "## metrics"
      ],
      "metadata": {
        "id": "8SbEgubdv2RD"
      }
    },
    {
      "cell_type": "code",
      "source": [
        "#@title\n",
        "from cmath import inf\n",
        "import math\n",
        "import numpy as np\n",
        "import matplotlib.pyplot as plt"
      ],
      "metadata": {
        "cellView": "form",
        "id": "XkCAOiCKwCRE"
      },
      "execution_count": 4,
      "outputs": []
    },
    {
      "cell_type": "code",
      "source": [
        "#@title\n",
        "\n",
        "def get_areas(start,finish, dict_curve) -> tuple:\n",
        "    \"\"\"Return the uper and downer areas of the curve\"\"\"\n",
        "    slope = (start[1] - finish[1])/(start[0]-finish[0])\n",
        "    line_y = lambda x: slope*(x - start[0]) + start[1]\n",
        "    #Compare the first and second lower keys from the dict_curve\n",
        "    dic_iter = iter(dict_curve)\n",
        "    first = next(dic_iter)\n",
        "    second = next(dic_iter)\n",
        "    dx = second-first\n",
        "\n",
        "    upper_area = 0\n",
        "    downer_area = 0\n",
        "    for time, val in dict_curve.items():\n",
        "        if time > start[0] and time < finish[0]:\n",
        "            dist = line_y(time) - val\n",
        "            if dist > 0:\n",
        "                plt.plot([time, time], [val, line_y(time)], color=\"green\")\n",
        "                upper_area += dist*dx\n",
        "            else:\n",
        "                plt.plot([time, time], [val, line_y(time)], color=\"blue\")\n",
        "                downer_area -= dist\n",
        "    return upper_area, downer_area\n",
        "\n",
        "def get_triangle_area(a,b,c) -> float:\n",
        "    \"\"\"Return the area of a triangle with sides a,b,c\"\"\"\n",
        "    return 1/2*(a[0]*(b[1] - c[1]) + b[0]*(c[1] - a[1]) + c[0]*(a[1] - b[1]))"
      ],
      "metadata": {
        "cellView": "form",
        "id": "UQwJlklNv51e"
      },
      "execution_count": 5,
      "outputs": []
    },
    {
      "cell_type": "code",
      "source": [
        "#@title\n",
        "#Get the points in the curve with the bigger and smaller angle\n",
        "def get_angle(first, middle, last):\n",
        "    ba = first - middle\n",
        "    bc = last - middle\n",
        "\n",
        "    cosine_angle = np.dot(ba, bc) / (np.linalg.norm(ba) * np.linalg.norm(bc))\n",
        "    angle = np.arccos(cosine_angle)\n",
        "    return np.degrees(angle)\n",
        "\n",
        "def get_bigger_angle(start,finish, dict_curve):\n",
        "    \"\"\"Not usefull\"\"\"\n",
        "    max_angle = -1\n",
        "    max_angle_time = 0\n",
        "    min_angle = 361\n",
        "    min_angle_time = 0\n",
        "    for time, value in dict_curve.items():\n",
        "        if time > finish[0]:\n",
        "            break\n",
        "        angle = get_angle(start, [time, value], finish)\n",
        "        if angle < min_angle:\n",
        "            min_angle = angle\n",
        "            min_angle_time = time\n",
        "        if angle > max_angle:\n",
        "            max_angle = angle\n",
        "            max_angle_time = time\n",
        "    return max_angle, min_angle, max_angle_time, min_angle_time"
      ],
      "metadata": {
        "cellView": "form",
        "id": "Q98j-8cvv7AI"
      },
      "execution_count": 6,
      "outputs": []
    },
    {
      "cell_type": "code",
      "source": [
        "#@title\n",
        "def get_distance(start:np.array, finish:np.array, point:np.array) -> float:\n",
        "    \"\"\"Return the distance between the point and the line defined by the start and finish points\"\"\"\n",
        "    return np.linalg.norm(np.cross(finish-start, start-point))/np.linalg.norm(finish-start)\n",
        "\n",
        "\n",
        "def get_bigger_distance(start,finish, dict_curve) -> tuple:\n",
        "    \"\"\"Get the bigger distance between the real curve and the start-finish line, absolute and relative\"\"\"\n",
        "    slope = (finish[1] - start[1])/(finish[0]-start[0])\n",
        "    \n",
        "    right_dist = -inf \n",
        "    left_dist = inf\n",
        "    right_dist_time = 0\n",
        "    left_dist_time = 0\n",
        "    for time, val in dict_curve.items():\n",
        "        if time >= finish[0]:\n",
        "            break\n",
        "        if time < start[0]:\n",
        "            continue\n",
        "\n",
        "        dist = get_distance(start, finish, np.array([time, val]))\n",
        "        # compare if its up or down from the base line\n",
        "        if val < slope*(time-start[0]) + start[1]:\n",
        "            dist = -dist\n",
        "        if dist > right_dist:\n",
        "            right_dist = dist\n",
        "            right_dist_time = time\n",
        "        if dist < left_dist:\n",
        "            left_dist = dist\n",
        "            left_dist_time = time\n",
        "\n",
        "    #Normilize the distances to percentage of the total distance\n",
        "    if right_dist > -left_dist:\n",
        "        big_dist = right_dist\n",
        "        big_dist_time = right_dist_time\n",
        "    else:\n",
        "        big_dist = -left_dist\n",
        "        big_dist_time = left_dist_time\n",
        "\n",
        "    big_dist_norm = 100 * big_dist / math.sqrt((finish[0] - start[0])**2 + (finish[1] - start[1])**2)\n",
        "    return big_dist, big_dist_norm,  big_dist_time\n"
      ],
      "metadata": {
        "cellView": "form",
        "id": "1hCF7hmkv_c2"
      },
      "execution_count": 7,
      "outputs": []
    },
    {
      "cell_type": "markdown",
      "source": [
        "## Ploting"
      ],
      "metadata": {
        "id": "zMLM2AyUwNDE"
      }
    },
    {
      "cell_type": "code",
      "source": [
        "#@title\n",
        "def plot_line(points_list, label=None, color=None):\n",
        "    \"\"\"Recives list with two points and plot the line between them\"\"\"\n",
        "    plt.plot([x[0] for x in points_list], [x[1] for x in points_list], label=label, color=color)\n",
        "\n",
        "\n",
        "\n",
        "def plot_three_points(first, middle, last, labels=False, color=None):\n",
        "    if labels:\n",
        "        plot_line([first, middle], label=labels, color=color)\n",
        "        plot_line([middle, last], label=labels, color=color)\n",
        "    else:\n",
        "        plot_line([first, middle], color=color)\n",
        "        plot_line([middle, last], color=color)\n",
        "\n",
        "def plot_quintiles_lines(start, finish, f_x):\n",
        "    max_time = finish[0]\n",
        "    colors = [\"blue\", \"green\", \"orange\"]\n",
        "    \n",
        "    for i in range(3):\n",
        "        x_time = round((i + 1)*max_time/5,2) + start[0]\n",
        "        plot_three_points(start, (x_time, f_x[x_time]),finish, labels=False, color=colors[i])\n",
        "        plt.plot(x_time, f_x[x_time], marker=\"o\", markersize=5,  color=colors[i])\n",
        "\n",
        "def plot_lines_to_middle(start_point, finish_point, f_x, color=None):\n",
        "    middle_time = round((start_point[0] + finish_point[0])/2, 2)\n",
        "    middle_point = [middle_time, f_x[middle_time]]\n",
        "    plot_three_points(start_point, middle_point, finish_point, color=color)"
      ],
      "metadata": {
        "cellView": "form",
        "id": "gZgKS7tQu9dS"
      },
      "execution_count": 8,
      "outputs": []
    },
    {
      "cell_type": "markdown",
      "source": [
        "## Proccess function"
      ],
      "metadata": {
        "id": "Jd5nWkSMwfBL"
      }
    },
    {
      "cell_type": "code",
      "source": [
        "#@title\n",
        "def process_input(ex_path, verbose=False):\n",
        "    #Code to select the path \n",
        "    time, curve, start_x, finish_x = read_file(ex_path)\n",
        "    \n",
        "    f_x = dict(zip([round(x, 2) for x in time], curve))\n",
        "\n",
        "    start = np.array([start_x, f_x[start_x]])\n",
        "    finish = np.array([finish_x, f_x[finish_x]])\n",
        "    \n",
        "    ### Indexes ###\n",
        "    best_distance_index = {}\n",
        "    ## Pivot on bigger distance to the start-finish line ##\n",
        "    # Distance\n",
        "    big_dist, big_dist_norm,  big_dist_time =  get_bigger_distance(start, finish, f_x)\n",
        "    best_distance_index[\"bigger distance\"] = big_dist_time\n",
        "    best_distance_index[\"bigger distance norm (%)\"] = big_dist_norm\n",
        "    best_distance_index[\"bigger distance time\"] = big_dist_time\n",
        "    best_distance_index[\"% time before pivot\"] = 100*(big_dist_time - start[0])/(finish[0] - start[0])\n",
        "    distance_point = np.array([big_dist_time, f_x[big_dist_time]])\n",
        "\n",
        "\n",
        "    #Angle in bigger distance\n",
        "    max_ang = get_angle(start, distance_point, finish)\n",
        "    best_distance_index[\"angle\"] = max_ang\n",
        "\n",
        "    # Area\n",
        "    upper_area, downer_area = get_areas(start, finish, f_x)\n",
        "    best_distance_index[\"upper area\"] = upper_area\n",
        "    best_distance_index[\"downer area\"] = downer_area\n",
        "    best_distance_index[\"triangle area\"] = get_triangle_area(\n",
        "        start, \n",
        "        distance_point, \n",
        "        finish)\n",
        "    # slopes\n",
        "    best_distance_index[\"slope start-pivot\"] = (distance_point[1] - start[1])/(distance_point[0] - start[0])\n",
        "    best_distance_index[\"slope pivot-finish\"] = (finish[1] - distance_point[1])/(finish[0] - distance_point[0])\n",
        "    best_distance_index[\"slope start-finish\"] = (finish[1] - start[1])/(finish[0] - start[0])\n",
        "\n",
        "    ## Pivot on middle values of the data ##\n",
        "    middle_distance_index = {}\n",
        "    mid_time = round((start[0] + finish[0])/2, 2)\n",
        "    mid_point = np.array([mid_time, f_x[mid_time]])\n",
        "\n",
        "    # Distance\n",
        "    middle_distance_index[\"distance\"] = get_distance(start, finish, mid_point)\n",
        "    middle_distance_index[\"distance norm (%)\"] = 100*get_distance(start, finish, mid_point)/math.sqrt((finish[0] - start[0])**2 + (finish[1] - start[1])**2)\n",
        "    middle_distance_index[\"distance time\"] = mid_time\n",
        "    middle_distance_index[\"% time before pivot\"] = 100 * (mid_time - start[0]) / (finish[0] - start[0])\n",
        "\n",
        "    # Angle in middle\n",
        "    middle_distance_index[\"angle\"] = get_angle(\n",
        "        first=start, \n",
        "        middle=mid_point, \n",
        "        last=finish)\n",
        "\n",
        "    # Triangle Area in middle\n",
        "    middle_distance_index[\"triangle area\"] = get_triangle_area(start, mid_point, finish)\n",
        "    middle_distance_index[\"slope start-pivot\"] = (mid_point[1] - start[1])/(mid_point[0] - start[0])\n",
        "    middle_distance_index[\"slope pivot-finish\"] = (finish[1] - mid_point[1])/(finish[0] - mid_point[0])\n",
        "\n",
        "    update_excel(best_distance_index, middle_distance_index)\n",
        "\n",
        "    if verbose:\n",
        "        # Print results big distance\n",
        "        print(\"Bigger distance: {} at {}\".format(big_dist, big_dist_time))\n",
        "        print(\"angle: {} at {}\".format(max_ang, big_dist_time))\n",
        "        print(\"Upper area: {}\".format(upper_area))\n",
        "        print(\"Downer area: {}\".format(downer_area))\n",
        "        print(\"Triangle area: {}\".format(best_distance_index[\"triangle area\"]))\n",
        "\n",
        "        print(\"-\"*20)\n",
        "        # Print results middle distance\n",
        "        print(\"Middle distance: {} at {}\".format(middle_distance_index[\"distance\"], mid_time))\n",
        "        print(\"angle: {} at {}\".format(middle_distance_index[\"angle\"], mid_time))\n",
        "        print(\"Triangle area: {}\".format(middle_distance_index[\"triangle area\"]))\n",
        "        print(\"Slope 1: {}\".format(middle_distance_index[\"slope start-pivot\"]))\n",
        "        print(\"Slope 2: {}\".format(middle_distance_index[\"slope pivot-finish\"]))\n",
        "\n",
        "        ## Ploting funcionts\n",
        "        plot_line([start, finish], label=\"start to finish\", color=\"orange\")\n",
        "        plot_three_points(start, [big_dist_time, f_x[big_dist_time]], finish, labels=\"Big distance\", color=\"red\")\n",
        "        plt.plot(big_dist_time, f_x[big_dist_time], marker=\"o\", markersize=5,  color=\"red\", label=\"Pivot big distance\")\n",
        "        plt.plot(mid_time, f_x[mid_time], marker=\"o\", markersize=5,  color=\"blue\", label=\"Middle\")\n",
        "\n",
        "        #Basic graph\n",
        "        plt.plot(time, curve)\n",
        "        plt.axis([0, time[-1], 0, max(curve)+2])\n",
        "        plt.legend()\n",
        "        plt.show()\n"
      ],
      "metadata": {
        "cellView": "form",
        "id": "B2atp9t3wfMQ"
      },
      "execution_count": 9,
      "outputs": []
    },
    {
      "cell_type": "markdown",
      "source": [
        "# Ejecutar para procesar"
      ],
      "metadata": {
        "id": "n0CdQayVveVN"
      }
    },
    {
      "cell_type": "code",
      "source": [
        "process_input(uploaded[\"input.xlsx\"], verbose=True)"
      ],
      "metadata": {
        "colab": {
          "base_uri": "https://localhost:8080/",
          "height": 456
        },
        "id": "zQLE49civeHs",
        "outputId": "18ed8818-d2d0-4e92-e7b6-4075c620477b"
      },
      "execution_count": null,
      "outputs": [
        {
          "output_type": "stream",
          "name": "stdout",
          "text": [
            "Bigger distance: 0.24640966019626212 at 0.67\n",
            "angle: 170.53411036207623 at 0.67\n",
            "Upper area: 0.8253896173076921\n",
            "Downer area: 3.924864230769237\n",
            "Triangle area: 0.8815244649999991\n",
            "--------------------\n",
            "Middle distance: 0.24103434840158744 at 0.7\n",
            "angle: 170.26141298626564 at 0.7\n",
            "Triangle area: 0.8622944199999996\n",
            "Slope 1: -9.995653846153845\n",
            "Slope 2: -3.6177365384615383\n"
          ]
        },
        {
          "output_type": "display_data",
          "data": {
            "text/plain": [
              "<Figure size 432x288 with 1 Axes>"
            ],
            "image/png": "[encoded data removed]"
          },
          "metadata": {
            "needs_background": "light"
          }
        }
      ]
    },
    {
      "cell_type": "markdown",
      "source": [
        "# Descargar"
      ],
      "metadata": {
        "id": "GyZabyiHrWTU"
      }
    },
    {
      "cell_type": "code",
      "source": [
        "files.download('input.xlsx')"
      ],
      "metadata": {
        "colab": {
          "base_uri": "https://localhost:8080/",
          "height": 17
        },
        "id": "pD5uDvZfvbup",
        "outputId": "dcf2a61b-a252-4931-d697-bb708f41acb7"
      },
      "execution_count": null,
      "outputs": [
        {
          "output_type": "display_data",
          "data": {
            "text/plain": [
              "<IPython.core.display.Javascript object>"
            ],
            "application/javascript": [
              "\n",
              "    async function download(id, filename, size) {\n",
              "      if (!google.colab.kernel.accessAllowed) {\n",
              "        return;\n",
              "      }\n",
              "      const div = document.createElement('div');\n",
              "      const label = document.createElement('label');\n",
              "      label.textContent = `Downloading \"${filename}\": `;\n",
              "      div.appendChild(label);\n",
              "      const progress = document.createElement('progress');\n",
              "      progress.max = size;\n",
              "      div.appendChild(progress);\n",
              "      document.body.appendChild(div);\n",
              "\n",
              "      const buffers = [];\n",
              "      let downloaded = 0;\n",
              "\n",
              "      const channel = await google.colab.kernel.comms.open(id);\n",
              "      // Send a message to notify the kernel that we're ready.\n",
              "      channel.send({})\n",
              "\n",
              "      for await (const message of channel.messages) {\n",
              "        // Send a message to notify the kernel that we're ready.\n",
              "        channel.send({})\n",
              "        if (message.buffers) {\n",
              "          for (const buffer of message.buffers) {\n",
              "            buffers.push(buffer);\n",
              "            downloaded += buffer.byteLength;\n",
              "            progress.value = downloaded;\n",
              "          }\n",
              "        }\n",
              "      }\n",
              "      const blob = new Blob(buffers, {type: 'application/binary'});\n",
              "      const a = document.createElement('a');\n",
              "      a.href = window.URL.createObjectURL(blob);\n",
              "      a.download = filename;\n",
              "      div.appendChild(a);\n",
              "      a.click();\n",
              "      div.remove();\n",
              "    }\n",
              "  "
            ]
          },
          "metadata": {}
        },
        {
          "output_type": "display_data",
          "data": {
            "text/plain": [
              "<IPython.core.display.Javascript object>"
            ],
            "application/javascript": [
              "download(\"download_fc2d252b-7bf2-4dd0-bade-cd607e3fbe93\", \"input.xlsx\", 633024)"
            ]
          },
          "metadata": {}
        }
      ]
    }
  ]
}